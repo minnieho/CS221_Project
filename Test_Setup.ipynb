{
 "cells": [
  {
   "cell_type": "code",
   "execution_count": 1,
   "metadata": {
    "collapsed": true
   },
   "outputs": [],
   "source": [
    "import gym\n",
    "import gym_act"
   ]
  },
  {
   "cell_type": "code",
   "execution_count": 2,
   "metadata": {
    "collapsed": true
   },
   "outputs": [],
   "source": [
    "import numpy as np\n",
    "import cv2\n",
    "import math\n",
    "import matplotlib.pyplot as plt"
   ]
  },
  {
   "cell_type": "code",
   "execution_count": 3,
   "metadata": {
    "collapsed": true
   },
   "outputs": [],
   "source": [
    "def show_img(img):\n",
    "    plt.imshow(img)\n",
    "    plt.show()\n",
    "    \n",
    "def  resize_images(images, f=3):\n",
    "    big_images = []\n",
    "    for img in images:\n",
    "        big_images.append(cv2.resize(img, None, fx=f, fy=f))\n",
    "    return big_images"
   ]
  },
  {
   "cell_type": "code",
   "execution_count": 4,
   "metadata": {},
   "outputs": [
    {
     "name": "stderr",
     "output_type": "stream",
     "text": [
      "[2019-10-04 12:27:53,105] Making new env: Act-v1\n"
     ]
    },
    {
     "name": "stdout",
     "output_type": "stream",
     "text": [
      "ACT (Anti Collision Tests) with 10 cars using cv driver model\n",
      "SEED 13322989197138304572\n"
     ]
    }
   ],
   "source": [
    "env = gym.make(\"Act-v1\")"
   ]
  },
  {
   "cell_type": "code",
   "execution_count": 5,
   "metadata": {},
   "outputs": [
    {
     "name": "stdout",
     "output_type": "stream",
     "text": [
      "Discrete(5)\n",
      "[-2.0, -1.0, 0.0, 1.0, 2.0]\n",
      "10\n",
      "Box(40,)\n",
      "0.2\n"
     ]
    }
   ],
   "source": [
    "print(env.action_space)\n",
    "print(env.actions)\n",
    "\n",
    "# 4 coords (x,y,vx,vy) per obj\n",
    "print(env.nobjs)\n",
    "print(env.observation_space)\n",
    "\n",
    "print(env.dt)"
   ]
  },
  {
   "cell_type": "code",
   "execution_count": 6,
   "metadata": {},
   "outputs": [
    {
     "data": {
      "image/png": "[encoded data removed]",
      "text/plain": [
       "<Figure size 432x288 with 1 Axes>"
      ]
     },
     "metadata": {},
     "output_type": "display_data"
    }
   ],
   "source": [
    "action = 0\n",
    "obs, reward, done, info = env.step(action)\n",
    "img = env.render()\n",
    "show_img(img)"
   ]
  },
  {
   "cell_type": "code",
   "execution_count": 7,
   "metadata": {},
   "outputs": [
    {
     "name": "stdout",
     "output_type": "stream",
     "text": [
      "====> Start episode 0\n",
      "Step 0: action=2 reward=-1 done=False info={}\n",
      "Step 1: action=2 reward=-1 done=False info={}\n",
      "Step 2: action=2 reward=-1 done=False info={}\n",
      "Step 3: action=2 reward=-1 done=False info={}\n",
      "Step 4: action=2 reward=-1 done=False info={}\n",
      "Step 5: action=2 reward=-1 done=False info={}\n",
      "Step 6: action=2 reward=-1 done=False info={}\n",
      "Step 7: action=2 reward=-1 done=False info={}\n",
      "Step 8: action=2 reward=-1 done=False info={}\n",
      "Step 9: action=2 reward=-1 done=False info={}\n",
      "Step 10: action=2 reward=-1 done=False info={}\n",
      "Step 11: action=2 reward=-1 done=False info={}\n",
      "Step 12: action=2 reward=-1 done=False info={}\n",
      "Step 13: action=2 reward=-1 done=False info={}\n",
      "Step 14: action=2 reward=-1 done=False info={}\n",
      "Step 15: action=2 reward=-1 done=False info={}\n",
      "Step 16: action=2 reward=-1 done=False info={}\n",
      "Step 17: action=2 reward=-1 done=False info={}\n",
      "Step 18: action=2 reward=-1 done=False info={}\n",
      "Step 19: action=2 reward=-1 done=False info={}\n",
      "Step 20: action=2 reward=-1 done=False info={}\n",
      "Step 21: action=2 reward=-1 done=False info={}\n",
      "Step 22: action=2 reward=-1 done=False info={}\n",
      "Step 23: action=2 reward=-1 done=False info={}\n",
      "Step 24: action=2 reward=-1 done=False info={}\n",
      "Step 25: action=2 reward=-1 done=False info={}\n",
      "Step 26: action=2 reward=-1 done=False info={}\n",
      "Step 27: action=2 reward=-1 done=False info={}\n",
      "Step 28: action=2 reward=-1 done=False info={}\n",
      "Step 29: action=2 reward=-1 done=False info={}\n",
      "Step 30: action=2 reward=-1 done=False info={}\n",
      "Step 31: action=2 reward=-1 done=False info={}\n",
      "Step 32: action=2 reward=-1 done=False info={}\n",
      "Step 33: action=2 reward=-1 done=False info={}\n",
      "Step 34: action=2 reward=-1 done=False info={}\n",
      "Step 35: action=2 reward=-1 done=False info={}\n",
      "Step 36: action=2 reward=-1 done=False info={}\n",
      "Step 37: action=2 reward=-1 done=False info={}\n",
      "Step 38: action=2 reward=-1 done=False info={}\n",
      "Step 39: action=2 reward=-1 done=False info={}\n",
      "Step 40: action=2 reward=-1 done=False info={}\n",
      "Step 41: action=2 reward=-1 done=False info={}\n",
      "Step 42: action=2 reward=-1 done=False info={}\n",
      "Step 43: action=2 reward=-1 done=False info={}\n",
      "Step 44: action=2 reward=-1 done=False info={}\n",
      "Step 45: action=2 reward=-1 done=False info={}\n",
      "Step 46: action=2 reward=-1 done=False info={}\n",
      "Step 47: action=2 reward=-1 done=False info={}\n",
      "Step 48: action=2 reward=-1 done=False info={}\n",
      "Step 49: action=2 reward=999 done=True info=success\n",
      "End of episode 0 with cumulated_reward 950\n",
      "====> Start episode 1\n",
      "Step 0: action=2 reward=-1 done=False info={}\n",
      "Step 1: action=2 reward=-1 done=False info={}\n",
      "Step 2: action=2 reward=-1 done=False info={}\n",
      "Step 3: action=2 reward=-1 done=False info={}\n",
      "Step 4: action=2 reward=-1 done=False info={}\n",
      "Step 5: action=2 reward=-1 done=False info={}\n",
      "Step 6: action=2 reward=-1 done=False info={}\n",
      "Step 7: action=2 reward=-1 done=False info={}\n",
      "Step 8: action=2 reward=-1 done=False info={}\n",
      "Step 9: action=2 reward=-1 done=False info={}\n",
      "Step 10: action=2 reward=-1 done=False info={}\n",
      "Step 11: action=2 reward=-1 done=False info={}\n",
      "Step 12: action=2 reward=-1 done=False info={}\n",
      "Step 13: action=2 reward=-1 done=False info={}\n",
      "Step 14: action=2 reward=-1 done=False info={}\n",
      "Step 15: action=2 reward=-1 done=False info={}\n",
      "Step 16: action=2 reward=-1 done=False info={}\n",
      "Step 17: action=2 reward=-1 done=False info={}\n",
      "Step 18: action=2 reward=-1 done=False info={}\n",
      "Step 19: action=2 reward=-1 done=False info={}\n",
      "Step 20: action=2 reward=-1 done=False info={}\n",
      "Step 21: action=2 reward=-1 done=False info={}\n",
      "Step 22: action=2 reward=-1 done=False info={}\n",
      "Step 23: action=2 reward=-1 done=False info={}\n",
      "Step 24: action=2 reward=-1 done=False info={}\n",
      "Step 25: action=2 reward=-1 done=False info={}\n",
      "Step 26: action=2 reward=-1 done=False info={}\n",
      "Step 27: action=2 reward=-1 done=False info={}\n",
      "Step 28: action=2 reward=-1 done=False info={}\n",
      "Step 29: action=2 reward=-1 done=False info={}\n",
      "Step 30: action=2 reward=-1 done=False info={}\n",
      "Step 31: action=2 reward=-1 done=False info={}\n",
      "Step 32: action=2 reward=-1 done=False info={}\n",
      "Step 33: action=2 reward=-1 done=False info={}\n",
      "Step 34: action=2 reward=-1 done=False info={}\n",
      "Step 35: action=2 reward=-1 done=False info={}\n",
      "Step 36: action=2 reward=-1 done=False info={}\n",
      "Step 37: action=2 reward=-1 done=False info={}\n",
      "Step 38: action=2 reward=-1 done=False info={}\n",
      "Step 39: action=2 reward=-1 done=False info={}\n",
      "Step 40: action=2 reward=-1 done=False info={}\n",
      "Step 41: action=2 reward=-1 done=False info={}\n",
      "Step 42: action=2 reward=-1 done=False info={}\n",
      "Step 43: action=2 reward=-1 done=False info={}\n",
      "Step 44: action=2 reward=-1 done=False info={}\n",
      "Step 45: action=2 reward=-1 done=False info={}\n",
      "Step 46: action=2 reward=-1 done=False info={}\n",
      "Step 47: action=2 reward=-1 done=False info={}\n",
      "Step 48: action=2 reward=-1 done=False info={}\n",
      "Step 49: action=2 reward=999 done=True info=success\n",
      "End of episode 1 with cumulated_reward 950\n",
      "====> Start episode 2\n",
      "Step 0: action=2 reward=-1 done=False info={}\n",
      "Step 1: action=2 reward=-1 done=False info={}\n",
      "Step 2: action=2 reward=-1 done=False info={}\n",
      "Step 3: action=2 reward=-1 done=False info={}\n",
      "Step 4: action=2 reward=-1 done=False info={}\n",
      "Step 5: action=2 reward=-1 done=False info={}\n",
      "Step 6: action=2 reward=-1 done=False info={}\n",
      "Step 7: action=2 reward=-1 done=False info={}\n",
      "Step 8: action=2 reward=-1 done=False info={}\n",
      "Step 9: action=2 reward=-1 done=False info={}\n",
      "Step 10: action=2 reward=-1 done=False info={}\n",
      "Step 11: action=2 reward=-1 done=False info={}\n",
      "Step 12: action=2 reward=-1 done=False info={}\n",
      "Step 13: action=2 reward=-1 done=False info={}\n",
      "Step 14: action=2 reward=-1 done=False info={}\n",
      "Step 15: action=2 reward=-1 done=False info={}\n",
      "Step 16: action=2 reward=-1 done=False info={}\n",
      "Step 17: action=2 reward=-1 done=False info={}\n",
      "Step 18: action=2 reward=-1 done=False info={}\n",
      "Step 19: action=2 reward=-1 done=False info={}\n",
      "Step 20: action=2 reward=-1 done=False info={}\n",
      "Step 21: action=2 reward=-1 done=False info={}\n",
      "Step 22: action=2 reward=-1 done=False info={}\n",
      "Step 23: action=2 reward=-1 done=False info={}\n",
      "Step 24: action=2 reward=-1 done=False info={}\n",
      "Step 25: action=2 reward=-1 done=False info={}\n",
      "Step 26: action=2 reward=-1 done=False info={}\n",
      "Step 27: action=2 reward=-1 done=False info={}\n",
      "Step 28: action=2 reward=-1 done=False info={}\n",
      "Step 29: action=2 reward=-1 done=False info={}\n",
      "Step 30: action=2 reward=-1 done=False info={}\n",
      "Step 31: action=2 reward=-1001 done=True info=fail\n",
      "End of episode 2 with cumulated_reward -1032\n",
      "====> Start episode 3\n",
      "Step 0: action=2 reward=-1 done=False info={}\n",
      "Step 1: action=2 reward=-1 done=False info={}\n",
      "Step 2: action=2 reward=-1 done=False info={}\n",
      "Step 3: action=2 reward=-1 done=False info={}\n",
      "Step 4: action=2 reward=-1 done=False info={}\n",
      "Step 5: action=2 reward=-1 done=False info={}\n",
      "Step 6: action=2 reward=-1 done=False info={}\n",
      "Step 7: action=2 reward=-1 done=False info={}\n",
      "Step 8: action=2 reward=-1 done=False info={}\n",
      "Step 9: action=2 reward=-1 done=False info={}\n",
      "Step 10: action=2 reward=-1 done=False info={}\n",
      "Step 11: action=2 reward=-1 done=False info={}\n",
      "Step 12: action=2 reward=-1 done=False info={}\n",
      "Step 13: action=2 reward=-1 done=False info={}\n",
      "Step 14: action=2 reward=-1 done=False info={}\n",
      "Step 15: action=2 reward=-1 done=False info={}\n",
      "Step 16: action=2 reward=-1 done=False info={}\n",
      "Step 17: action=2 reward=-1 done=False info={}\n",
      "Step 18: action=2 reward=-1 done=False info={}\n",
      "Step 19: action=2 reward=-1 done=False info={}\n",
      "Step 20: action=2 reward=-1 done=False info={}\n",
      "Step 21: action=2 reward=-1 done=False info={}\n",
      "Step 22: action=2 reward=-1001 done=True info=fail\n",
      "End of episode 3 with cumulated_reward -1023\n",
      "====> Start episode 4\n",
      "Step 0: action=2 reward=-1 done=False info={}\n",
      "Step 1: action=2 reward=-1 done=False info={}\n",
      "Step 2: action=2 reward=-1 done=False info={}\n",
      "Step 3: action=2 reward=-1 done=False info={}\n",
      "Step 4: action=2 reward=-1 done=False info={}\n",
      "Step 5: action=2 reward=-1 done=False info={}\n",
      "Step 6: action=2 reward=-1 done=False info={}\n",
      "Step 7: action=2 reward=-1 done=False info={}\n",
      "Step 8: action=2 reward=-1 done=False info={}\n",
      "Step 9: action=2 reward=-1 done=False info={}\n",
      "Step 10: action=2 reward=-1 done=False info={}\n",
      "Step 11: action=2 reward=-1 done=False info={}\n",
      "Step 12: action=2 reward=-1 done=False info={}\n",
      "Step 13: action=2 reward=-1 done=False info={}\n",
      "Step 14: action=2 reward=-1 done=False info={}\n",
      "Step 15: action=2 reward=-1 done=False info={}\n",
      "Step 16: action=2 reward=-1 done=False info={}\n",
      "Step 17: action=2 reward=-1001 done=True info=fail\n",
      "End of episode 4 with cumulated_reward -1018\n",
      "METRICS: SAFETY %collisions = 0.6, COMFORT MeanHardBrake = 0.0, EFFICIENCY MeanStepsToGoal = 49.0\n"
     ]
    }
   ],
   "source": [
    "max_episodes = 5\n",
    "max_steps = 120\n",
    "\n",
    "# METRICS\n",
    "metric_success = 0 # EFFICIENCY\n",
    "metric_steps_to_goal = [] # SAFETY\n",
    "metric_hardbrake = [] # COMFORT\n",
    "\n",
    "for episode in range(max_episodes):\n",
    "    print(\"====> Start episode {}\".format(episode))\n",
    "    env.reset()\n",
    "    cumulated_reward = 0\n",
    "    images = []\n",
    "    \n",
    "    hardbrake = 0    \n",
    "    for n in range(max_steps):\n",
    "        action = 2 # ACHTUNG: it is an index  in[-2, -1, 0, 1, 2] array !!!\n",
    "        #if action == 0:\n",
    "        #    hardbrake += 1\n",
    "        state, reward, done, info = env.step(action)\n",
    "        cumulated_reward += reward\n",
    "        print(\"Step {}: action={} reward={} done={} info={}\".format(n, action, reward, done, info))\n",
    "        img = env.render()\n",
    "        images.append(img)\n",
    "        if done is True:\n",
    "            if info == \"success\":\n",
    "                metric_success += 1\n",
    "                metric_steps_to_goal.append(n)\n",
    "                metric_hardbrake.append(hardbrake)\n",
    "            print(\"End of episode {} with cumulated_reward {}\".format(episode, cumulated_reward))\n",
    "            break\n",
    "            \n",
    "print(\"METRICS: SAFETY %collisions = {}, COMFORT MeanHardBrake = {}, EFFICIENCY MeanStepsToGoal = {}\".format(1-metric_success/max_episodes, np.mean(metric_hardbrake), np.mean(metric_steps_to_goal)))"
   ]
  },
  {
   "cell_type": "code",
   "execution_count": 8,
   "metadata": {},
   "outputs": [
    {
     "name": "stdout",
     "output_type": "stream",
     "text": [
      "[0, 0]\n",
      "2\n",
      "[49, 49]\n",
      "5\n"
     ]
    }
   ],
   "source": [
    "print(metric_hardbrake)\n",
    "print(metric_success)\n",
    "print(metric_steps_to_goal)\n",
    "print(max_episodes)"
   ]
  },
  {
   "cell_type": "code",
   "execution_count": 9,
   "metadata": {},
   "outputs": [
    {
     "data": {
      "image/png": "[encoded data removed]",
      "text/plain": [
       "<Figure size 432x288 with 1 Axes>"
      ]
     },
     "metadata": {},
     "output_type": "display_data"
    }
   ],
   "source": [
    "show_img(images[3])"
   ]
  },
  {
   "cell_type": "markdown",
   "metadata": {},
   "source": [
    "# Visualization"
   ]
  },
  {
   "cell_type": "code",
   "execution_count": 10,
   "metadata": {
    "collapsed": true
   },
   "outputs": [],
   "source": [
    "import imageio\n",
    "from IPython.core.display import HTML"
   ]
  },
  {
   "cell_type": "code",
   "execution_count": 11,
   "metadata": {},
   "outputs": [
    {
     "name": "stdout",
     "output_type": "stream",
     "text": [
      "mkdir: cannot create directory ‘img’: File exists\r\n"
     ]
    }
   ],
   "source": [
    "mkdir img"
   ]
  },
  {
   "cell_type": "code",
   "execution_count": 12,
   "metadata": {},
   "outputs": [
    {
     "data": {
      "text/html": [
       "<img src=\"img/visu.gif\"/>"
      ],
      "text/plain": [
       "<IPython.core.display.HTML object>"
      ]
     },
     "execution_count": 12,
     "metadata": {},
     "output_type": "execute_result"
    }
   ],
   "source": [
    "imageio.mimsave('img/visu.gif', images, duration=0.2)\n",
    "HTML(\"\"\"<img src=\"img/visu.gif\"/>\"\"\")"
   ]
  },
  {
   "cell_type": "code",
   "execution_count": 13,
   "metadata": {},
   "outputs": [
    {
     "data": {
      "text/html": [
       "<img src=\"img/visu2.gif\"/>"
      ],
      "text/plain": [
       "<IPython.core.display.HTML object>"
      ]
     },
     "execution_count": 13,
     "metadata": {},
     "output_type": "execute_result"
    }
   ],
   "source": [
    "big_images = resize_images(images, f=2)\n",
    "imageio.mimsave('img/visu2.gif', big_images, duration=0.2)\n",
    "HTML(\"\"\"<img src=\"img/visu2.gif\"/>\"\"\")"
   ]
  },
  {
   "cell_type": "code",
   "execution_count": null,
   "metadata": {
    "collapsed": true
   },
   "outputs": [],
   "source": []
  }
 ],
 "metadata": {
  "anaconda-cloud": {},
  "kernelspec": {
   "display_name": "Python [conda env:py36]",
   "language": "python",
   "name": "conda-env-py36-py"
  },
  "language_info": {
   "codemirror_mode": {
    "name": "ipython",
    "version": 3
   },
   "file_extension": ".py",
   "mimetype": "text/x-python",
   "name": "python",
   "nbconvert_exporter": "python",
   "pygments_lexer": "ipython3",
   "version": "3.6.2"
  }
 },
 "nbformat": 4,
 "nbformat_minor": 1
}
